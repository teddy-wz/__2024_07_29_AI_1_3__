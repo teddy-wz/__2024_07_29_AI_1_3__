{
 "cells": [
  {
   "cell_type": "code",
   "execution_count": null,
   "metadata": {},
   "outputs": [],
   "source": [
    "import csv\n",
    "from pprint import pprint\n",
    "with open('abc.csv',encoding='utf-8',newline='') as file:\n",
    "    #content = file.read\n",
    "    reader= csv.reader(file)\n",
    "    contents:list = list(reader)\n",
    "pprint(contents) #Nested lists"
   ]
  },
  {
   "cell_type": "code",
   "execution_count": null,
   "metadata": {},
   "outputs": [],
   "source": [
    "import csv\n",
    "from pprint import pprint\n",
    "with open('abc.csv',encoding='utf-8',newline='') as file:\n",
    "    #content = file.read()\n",
    "    dictReader = csv.DictReader(file)\n",
    "    contents:list = list(dictReader)\n",
    "\n",
    "pprint(contents) #List of Dictionarys"
   ]
  },
  {
   "cell_type": "code",
   "execution_count": 19,
   "metadata": {},
   "outputs": [
    {
     "data": {
      "text/plain": [
       "['證券代號', '證券名稱', '成交股數', '成交金額', '開盤價', '最高價', '最低價', '收盤價', '漲跌價差', '成交筆數']"
      ]
     },
     "execution_count": 19,
     "metadata": {},
     "output_type": "execute_result"
    }
   ],
   "source": [
    "searchs:list = []\n",
    "for item in contents:\n",
    "    if '元大' in item['證券名稱']:\n",
    "        searchs.append(item)\n",
    "\n",
    "keys:list[str] = list(searchs[0].keys())\n",
    "keys"
   ]
  },
  {
   "cell_type": "code",
   "execution_count": 23,
   "metadata": {},
   "outputs": [],
   "source": [
    "with open('search.csv',mode='w',encoding='utf-8',newline='') as file:\n",
    "    dictWriter = csv.DictWriter(file,keys)\n",
    "    dictWriter.writeheader()\n",
    "    dictWriter.writerows(searchs)"
   ]
  },
  {
   "cell_type": "code",
   "execution_count": null,
   "metadata": {},
   "outputs": [],
   "source": [
    "import csv\n",
    "from pprint import pprint\n",
    "with open(\"歷年國內主要觀光遊憩據點遊客人數月別統計.csv\",encoding=\"utf-8\",newline=\"\") as file:\n",
    "    dictReader = csv.DictReader(file)\n",
    "    contents:list = list(dictReader)\n",
    "pprint(contents) \n",
    "searchs1:list = []\n",
    "for item in contents:\n",
    "    if \"玉山國家公園\" in item[\"觀光遊憩區\"]:\n",
    "        searchs1.append(item)\n",
    "keys1:list[str] = list(searchs1[0].keys())\n",
    "searchs2:list = []\n",
    "for item in contents:\n",
    "    if \"南投縣\" in item[\"縣市別\"]:\n",
    "        searchs2.append(item)\n",
    "keys2:list[str] = list(searchs2[0].keys())\n",
    "\n",
    "with open(\"玉山國家公園.csv\",mode=\"w\",encoding=\"utf-8\",newline=\"\") as file:\n",
    "    dictWriter = csv.DictWriter(file,keys1)\n",
    "    dictWriter.writeheader()\n",
    "    dictWriter.writerows(searchs1)\n",
    "\n",
    "with open(\"南投縣.csv\",mode=\"w\",encoding=\"utf-8\",newline=\"\") as file:\n",
    "    dictWriter = csv.DictWriter(file,keys2)\n",
    "    dictWriter.writeheader()\n",
    "    dictWriter.writerows(searchs2)"
   ]
  }
 ],
 "metadata": {
  "kernelspec": {
   "display_name": "Python 3",
   "language": "python",
   "name": "python3"
  },
  "language_info": {
   "codemirror_mode": {
    "name": "ipython",
    "version": 3
   },
   "file_extension": ".py",
   "mimetype": "text/x-python",
   "name": "python",
   "nbconvert_exporter": "python",
   "pygments_lexer": "ipython3",
   "version": "3.11.9"
  }
 },
 "nbformat": 4,
 "nbformat_minor": 2
}
