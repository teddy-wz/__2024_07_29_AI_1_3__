{
 "cells": [
  {
   "cell_type": "code",
   "execution_count": 1,
   "metadata": {},
   "outputs": [
    {
     "data": {
      "text/plain": [
       "[3, 6, 9, 12, 15]"
      ]
     },
     "execution_count": 1,
     "metadata": {},
     "output_type": "execute_result"
    }
   ],
   "source": [
    "values=[1,2,3,4,5]\n",
    "multiply = 3\n",
    "\n",
    "new_values = []\n",
    "for i in values:\n",
    "    new_values.append(i*multiply)\n",
    "\n",
    "new_values"
   ]
  },
  {
   "cell_type": "code",
   "execution_count": 2,
   "metadata": {},
   "outputs": [
    {
     "data": {
      "text/plain": [
       "[3, 6, 9, 12, 15]"
      ]
     },
     "execution_count": 2,
     "metadata": {},
     "output_type": "execute_result"
    }
   ],
   "source": [
    "values = [1,2,3,4,5]\n",
    "multiply=3\n",
    "\n",
    "new_values=[i*multiply for i in values]\n",
    "new_values"
   ]
  },
  {
   "cell_type": "code",
   "execution_count": 3,
   "metadata": {},
   "outputs": [
    {
     "data": {
      "text/plain": [
       "[1, 2, 3, 4, 5, 1, 2, 3, 4, 5, 1, 2, 3, 4, 5]"
      ]
     },
     "execution_count": 3,
     "metadata": {},
     "output_type": "execute_result"
    }
   ],
   "source": [
    "values = [1, 2, 3, 4, 5]\n",
    "multiply = 3\n",
    "values * multiply"
   ]
  },
  {
   "cell_type": "code",
   "execution_count": 4,
   "metadata": {},
   "outputs": [
    {
     "data": {
      "text/plain": [
       "array([ 3.14159, 12.56636, 28.27431, 50.26544, 78.53975])"
      ]
     },
     "execution_count": 4,
     "metadata": {},
     "output_type": "execute_result"
    }
   ],
   "source": [
    "import numpy as np\n",
    "values_array = np.array([1, 2, 3, 4, 5])\n",
    "multiply = 3\n",
    "values_array * multiply\n",
    "values_array ** 2 * 3.14159"
   ]
  },
  {
   "cell_type": "code",
   "execution_count": 5,
   "metadata": {},
   "outputs": [
    {
     "data": {
      "text/plain": [
       "array([[78, 69, 55, 59, 53],\n",
       "       [97, 51, 60, 51, 90],\n",
       "       [64, 97, 90, 57, 51],\n",
       "       [62, 51, 85, 87, 67],\n",
       "       [86, 80, 57, 74, 93],\n",
       "       [79, 71, 76, 98, 58],\n",
       "       [63, 94, 64, 54, 97],\n",
       "       [50, 60, 64, 85, 72],\n",
       "       [79, 91, 81, 93, 82],\n",
       "       [99, 77, 70, 73, 85],\n",
       "       [75, 68, 86, 96, 93],\n",
       "       [82, 77, 74, 68, 67],\n",
       "       [61, 51, 73, 95, 88],\n",
       "       [61, 76, 85, 54, 78],\n",
       "       [53, 95, 51, 97, 50],\n",
       "       [67, 83, 97, 83, 99],\n",
       "       [51, 72, 53, 98, 72],\n",
       "       [74, 60, 87, 80, 59],\n",
       "       [70, 95, 60, 75, 90],\n",
       "       [86, 53, 74, 79, 72],\n",
       "       [86, 93, 72, 63, 54],\n",
       "       [56, 73, 55, 88, 71],\n",
       "       [66, 84, 82, 64, 92],\n",
       "       [66, 80, 90, 58, 93],\n",
       "       [56, 93, 75, 52, 59],\n",
       "       [96, 72, 59, 98, 92],\n",
       "       [97, 59, 71, 94, 62],\n",
       "       [91, 82, 50, 51, 52],\n",
       "       [54, 96, 57, 74, 75],\n",
       "       [55, 72, 53, 53, 77],\n",
       "       [60, 98, 60, 88, 52],\n",
       "       [62, 96, 52, 93, 63],\n",
       "       [92, 88, 92, 74, 61],\n",
       "       [66, 68, 80, 66, 66],\n",
       "       [83, 55, 94, 87, 73],\n",
       "       [60, 78, 87, 80, 61],\n",
       "       [66, 98, 98, 84, 87],\n",
       "       [98, 98, 64, 63, 54],\n",
       "       [85, 85, 68, 80, 59],\n",
       "       [93, 97, 67, 57, 90],\n",
       "       [72, 90, 84, 57, 63],\n",
       "       [63, 64, 64, 60, 72],\n",
       "       [72, 67, 80, 78, 87],\n",
       "       [63, 65, 99, 81, 99],\n",
       "       [71, 80, 97, 70, 57],\n",
       "       [84, 88, 63, 84, 74],\n",
       "       [93, 83, 91, 51, 88],\n",
       "       [70, 64, 76, 65, 66],\n",
       "       [85, 84, 85, 97, 85],\n",
       "       [86, 87, 60, 84, 92]])"
      ]
     },
     "execution_count": 5,
     "metadata": {},
     "output_type": "execute_result"
    }
   ],
   "source": [
    "import numpy as np\n",
    "np.random.randint(50,100,size=(50,5))"
   ]
  }
 ],
 "metadata": {
  "kernelspec": {
   "display_name": "Python 3",
   "language": "python",
   "name": "python3"
  },
  "language_info": {
   "codemirror_mode": {
    "name": "ipython",
    "version": 3
   },
   "file_extension": ".py",
   "mimetype": "text/x-python",
   "name": "python",
   "nbconvert_exporter": "python",
   "pygments_lexer": "ipython3",
   "version": "3.11.9"
  }
 },
 "nbformat": 4,
 "nbformat_minor": 2
}
