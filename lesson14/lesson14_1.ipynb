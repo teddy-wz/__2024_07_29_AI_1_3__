{
 "cells": [
  {
   "cell_type": "code",
   "execution_count": null,
   "metadata": {},
   "outputs": [],
   "source": [
    "(5,7)"
   ]
  },
  {
   "cell_type": "code",
   "execution_count": null,
   "metadata": {},
   "outputs": [],
   "source": [
    "5, 7"
   ]
  },
  {
   "cell_type": "code",
   "execution_count": null,
   "metadata": {},
   "outputs": [],
   "source": [
    "(5,)"
   ]
  },
  {
   "cell_type": "code",
   "execution_count": 1,
   "metadata": {},
   "outputs": [
    {
     "data": {
      "text/plain": [
       "[1, 3, 5, 7, 9, 3, 5, 6, 7, 9]"
      ]
     },
     "execution_count": 1,
     "metadata": {},
     "output_type": "execute_result"
    }
   ],
   "source": [
    "list_a = [1, 3, 5, 7, 9]\n",
    "list_b = [3, 5, 6, 7, 9]\n",
    "list_a + list_b"
   ]
  },
  {
   "cell_type": "code",
   "execution_count": 2,
   "metadata": {},
   "outputs": [
    {
     "data": {
      "text/plain": [
       "array([ 4,  8, 11, 14, 18])"
      ]
     },
     "execution_count": 2,
     "metadata": {},
     "output_type": "execute_result"
    }
   ],
   "source": [
    "import numpy as np\n",
    "array_a = np.array([1, 3, 5, 7, 9])\n",
    "array_b = np.array([3, 5, 6, 7, 9])\n",
    "type(array_a)\n",
    "array_a + array_b"
   ]
  },
  {
   "cell_type": "code",
   "execution_count": 3,
   "metadata": {},
   "outputs": [
    {
     "data": {
      "text/plain": [
       "array([ 4,  8, 11, 14, 18])"
      ]
     },
     "execution_count": 3,
     "metadata": {},
     "output_type": "execute_result"
    }
   ],
   "source": [
    "import numpy as np\n",
    "array_a = np.array([1,3,5,7,9])\n",
    "array_b = np.array([3,5,6,7,9])\n",
    "type(array_a)\n",
    "array_a + array_b\n"
   ]
  },
  {
   "cell_type": "code",
   "execution_count": 4,
   "metadata": {},
   "outputs": [
    {
     "data": {
      "text/plain": [
       "(2, (2, 3), dtype('int64'))"
      ]
     },
     "execution_count": 4,
     "metadata": {},
     "output_type": "execute_result"
    }
   ],
   "source": [
    "import numpy as np\n",
    "l =[[1,2,3],[2,3,4]]\n",
    "array=np.array(l)\n",
    "array.ndim, array.shape,array.dtype"
   ]
  },
  {
   "cell_type": "code",
   "execution_count": 5,
   "metadata": {},
   "outputs": [
    {
     "data": {
      "text/plain": [
       "array([[ 1.02007304, -0.32662488, -0.56321625, -0.44468994,  0.00472108],\n",
       "       [ 0.56312315,  0.02906112, -2.57336845,  0.12082159,  0.2299861 ],\n",
       "       [ 0.71273295, -1.93096013, -1.87567917,  1.8248099 , -0.70041856],\n",
       "       [-0.29374605,  0.39492758,  2.02493034, -0.05968376,  0.0505973 ],\n",
       "       [-1.31738855,  0.62473751,  0.82735022, -0.00409145, -0.51289955],\n",
       "       [ 2.88275952,  0.13529259,  1.48488777,  0.05848389,  0.27937817],\n",
       "       [-0.30004964,  0.08017751, -0.40294864, -0.5165886 ,  0.22952945],\n",
       "       [-1.03645754, -1.17773745, -0.14772555, -0.35377884,  1.58403951],\n",
       "       [ 0.36622325, -0.4473551 , -0.77542929,  0.2799739 ,  0.04122803],\n",
       "       [ 0.73487431,  0.87404556, -0.59431121,  0.97827054, -0.10547006]])"
      ]
     },
     "execution_count": 5,
     "metadata": {},
     "output_type": "execute_result"
    }
   ],
   "source": [
    "import numpy as np\n",
    "np.random.randn(10,5)"
   ]
  },
  {
   "cell_type": "code",
   "execution_count": 6,
   "metadata": {},
   "outputs": [
    {
     "data": {
      "text/plain": [
       "array([[ 74,  91,  84,  62,  86],\n",
       "       [ 68,  88,  89,  92,  84],\n",
       "       [ 88,  80,  65,  71,  65],\n",
       "       [ 77,  91,  67,  75,  74],\n",
       "       [ 96,  70,  74,  99,  86],\n",
       "       [ 95,  59,  66,  85,  94],\n",
       "       [ 90,  53,  67,  60,  73],\n",
       "       [ 57, 100,  53,  82,  84],\n",
       "       [ 83,  64,  87,  52,  85],\n",
       "       [ 66,  72,  71,  82,  90],\n",
       "       [ 57,  62,  80,  89,  86],\n",
       "       [ 95,  83,  83,  53,  74],\n",
       "       [ 74,  71,  99,  57,  78],\n",
       "       [ 89,  50,  85,  65,  67],\n",
       "       [ 74,  94,  64,  84,  88],\n",
       "       [ 75,  52,  82,  67,  98],\n",
       "       [ 92,  71,  96,  63,  97],\n",
       "       [100,  65,  53,  55,  61],\n",
       "       [ 50,  72,  85,  67,  67],\n",
       "       [ 72,  62,  64,  55,  90],\n",
       "       [ 57,  73,  68, 100,  56],\n",
       "       [ 72,  80,  94,  64,  50],\n",
       "       [ 90,  70,  52,  89,  58],\n",
       "       [ 96,  57,  61,  59,  91],\n",
       "       [ 94,  56,  72,  86,  83],\n",
       "       [ 98,  80,  78,  93,  81],\n",
       "       [ 71,  63,  84,  80,  95],\n",
       "       [ 79,  98,  64,  76,  93],\n",
       "       [ 90,  85,  72,  72,  80],\n",
       "       [ 61,  60,  99,  65,  51],\n",
       "       [ 64,  96,  79,  58,  60],\n",
       "       [ 52,  94,  95,  58,  56],\n",
       "       [ 80,  76, 100,  77,  76],\n",
       "       [ 67,  95,  59,  66,  52],\n",
       "       [ 62,  80,  59,  66,  77],\n",
       "       [ 70,  64,  95,  56,  92],\n",
       "       [ 53,  76,  98,  50,  86],\n",
       "       [ 68,  70,  50,  55,  57],\n",
       "       [ 52,  85,  88,  96,  80],\n",
       "       [ 64,  69,  89,  69,  80],\n",
       "       [ 91,  88,  92,  89,  70],\n",
       "       [ 91,  78,  94,  69,  62],\n",
       "       [ 66,  69,  75,  61,  79],\n",
       "       [ 65,  94,  52,  86,  96],\n",
       "       [ 90,  61,  50,  66,  54],\n",
       "       [ 93,  83,  95,  92,  88],\n",
       "       [ 79,  98,  78,  98,  54],\n",
       "       [ 91,  78,  68,  60,  86],\n",
       "       [ 51,  94,  91,  64,  85],\n",
       "       [100,  75,  84,  74,  91]])"
      ]
     },
     "execution_count": 6,
     "metadata": {},
     "output_type": "execute_result"
    }
   ],
   "source": [
    "#50個學生,每個學生有5個分數(50-100)\n",
    "scores = np.random.randint(50,101,size=(50,5))\n",
    "scores"
   ]
  },
  {
   "cell_type": "code",
   "execution_count": 8,
   "metadata": {},
   "outputs": [
    {
     "data": {
      "text/plain": [
       "array([[ 93,  83,  95,  92,  88],\n",
       "       [ 79,  98,  78,  98,  54],\n",
       "       [ 91,  78,  68,  60,  86],\n",
       "       [ 51,  94,  91,  64,  85],\n",
       "       [100,  75,  84,  74,  91]])"
      ]
     },
     "execution_count": 8,
     "metadata": {},
     "output_type": "execute_result"
    }
   ],
   "source": [
    "#第一個學生\n",
    "scores[0,:]\n",
    "#前5個學生\n",
    "scores[:5,:]\n",
    "#最後5個學生\n",
    "scores[-5:,:]"
   ]
  },
  {
   "cell_type": "code",
   "execution_count": 9,
   "metadata": {},
   "outputs": [
    {
     "data": {
      "text/plain": [
       "array([ 74,  68,  88,  77,  96,  95,  90,  57,  83,  66,  57,  95,  74,\n",
       "        89,  74,  75,  92, 100,  50,  72,  57,  72,  90,  96,  94,  98,\n",
       "        71,  79,  90,  61,  64,  52,  80,  67,  62,  70,  53,  68,  52,\n",
       "        64,  91,  91,  66,  65,  90,  93,  79,  91,  51, 100])"
      ]
     },
     "execution_count": 9,
     "metadata": {},
     "output_type": "execute_result"
    }
   ],
   "source": [
    "#全班第1科的分數\n",
    "scores[:,0]"
   ]
  },
  {
   "cell_type": "code",
   "execution_count": 11,
   "metadata": {},
   "outputs": [
    {
     "data": {
      "text/plain": [
       "array([ 91,  88,  80,  91,  70,  59,  53, 100,  64,  72,  62,  83,  71,\n",
       "        50,  94,  52,  71,  65,  72,  62,  73,  80,  70,  57,  56,  80,\n",
       "        63,  98,  85,  60,  96,  94,  76,  95,  80,  64,  76,  70,  85,\n",
       "        69,  88,  78,  69,  94,  61,  83,  98,  78,  94,  75])"
      ]
     },
     "execution_count": 11,
     "metadata": {},
     "output_type": "execute_result"
    }
   ],
   "source": [
    "#全班第2科的分數\n",
    "scores[:,1]"
   ]
  },
  {
   "cell_type": "code",
   "execution_count": 12,
   "metadata": {},
   "outputs": [
    {
     "data": {
      "text/plain": [
       "array([397, 421, 369, 384, 425, 399, 343, 376, 371, 381, 374, 388, 379,\n",
       "       356, 404, 374, 419, 334, 341, 343, 354, 360, 359, 364, 391, 430,\n",
       "       393, 410, 399, 336, 357, 355, 409, 339, 344, 377, 363, 300, 401,\n",
       "       371, 430, 394, 350, 393, 321, 451, 407, 383, 385, 424])"
      ]
     },
     "execution_count": 12,
     "metadata": {},
     "output_type": "execute_result"
    }
   ],
   "source": [
    "#每位學生的總分\n",
    "total = scores[:,0] + scores[:,1] + scores[:,2] + scores[:,3] + scores[:,4] \n",
    "total"
   ]
  },
  {
   "cell_type": "code",
   "execution_count": 13,
   "metadata": {},
   "outputs": [
    {
     "data": {
      "text/plain": [
       "array([397, 421, 369, 384, 425, 399, 343, 376, 371, 381, 374, 388, 379,\n",
       "       356, 404, 374, 419, 334, 341, 343, 354, 360, 359, 364, 391, 430,\n",
       "       393, 410, 399, 336, 357, 355, 409, 339, 344, 377, 363, 300, 401,\n",
       "       371, 430, 394, 350, 393, 321, 451, 407, 383, 385, 424])"
      ]
     },
     "execution_count": 13,
     "metadata": {},
     "output_type": "execute_result"
    }
   ],
   "source": [
    "#使用統計的方法\n",
    "#每個學生總分\n",
    "np.sum(scores,axis=1)\n"
   ]
  },
  {
   "cell_type": "code",
   "execution_count": 15,
   "metadata": {},
   "outputs": [
    {
     "data": {
      "text/plain": [
       "array([79.4, 84.2, 73.8, 76.8, 85. , 79.8, 68.6, 75.2, 74.2, 76.2, 74.8,\n",
       "       77.6, 75.8, 71.2, 80.8, 74.8, 83.8, 66.8, 68.2, 68.6, 70.8, 72. ,\n",
       "       71.8, 72.8, 78.2, 86. , 78.6, 82. , 79.8, 67.2, 71.4, 71. , 81.8,\n",
       "       67.8, 68.8, 75.4, 72.6, 60. , 80.2, 74.2, 86. , 78.8, 70. , 78.6,\n",
       "       64.2, 90.2, 81.4, 76.6, 77. , 84.8])"
      ]
     },
     "execution_count": 15,
     "metadata": {},
     "output_type": "execute_result"
    }
   ],
   "source": [
    "#每個學生平均\n",
    "np.mean(scores,axis=1)"
   ]
  }
 ],
 "metadata": {
  "kernelspec": {
   "display_name": "Python 3",
   "language": "python",
   "name": "python3"
  },
  "language_info": {
   "codemirror_mode": {
    "name": "ipython",
    "version": 3
   },
   "file_extension": ".py",
   "mimetype": "text/x-python",
   "name": "python",
   "nbconvert_exporter": "python",
   "pygments_lexer": "ipython3",
   "version": "3.11.9"
  }
 },
 "nbformat": 4,
 "nbformat_minor": 2
}
