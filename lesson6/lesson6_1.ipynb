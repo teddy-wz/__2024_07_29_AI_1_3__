{
 "cells": [
  {
   "cell_type": "code",
   "execution_count": 1,
   "metadata": {},
   "outputs": [
    {
     "name": "stdout",
     "output_type": "stream",
     "text": [
      "您已經存了8個月,共存了53098元\n"
     ]
    }
   ],
   "source": [
    "deposit=0\n",
    "month=0\n",
    "while deposit<30000:\n",
    "    month+=1\n",
    "    money=int(input('請輸入第{month}月的存款:'))\n",
    "    deposit+=money\n",
    "print(f\"您已經存了{month}個月,共存了{deposit}元\")"
   ]
  },
  {
   "cell_type": "code",
   "execution_count": 2,
   "metadata": {},
   "outputs": [
    {
     "name": "stdout",
     "output_type": "stream",
     "text": [
      "New zealand\n",
      "Japan\n",
      "應用程式結束!\n"
     ]
    }
   ],
   "source": [
    "stuff=input(\"請輸入小寫字母[按q會離開]:\")\n",
    "#print(type(stuff))\n",
    "while not stuff =='q':\n",
    "    print(stuff.capitalize())\n",
    "    stuff=input(\"請輸入小寫字母[按q會離開]:\")\n",
    "print(\"應用程式結束!\")"
   ]
  },
  {
   "cell_type": "code",
   "execution_count": 3,
   "metadata": {},
   "outputs": [
    {
     "name": "stdout",
     "output_type": "stream",
     "text": [
      "Erre\n",
      "Trdfr\n",
      "應用程式結束!\n"
     ]
    }
   ],
   "source": [
    "#print(type(stuff))\n",
    "while True:\n",
    "    stuff = input(\"請輸入小寫字母[按q會離開]:\")\n",
    "    if stuff =='q':\n",
    "        break\n",
    "    print(stuff.capitalize())\n",
    "    \n",
    "print(\"應用程式結束!\")"
   ]
  },
  {
   "cell_type": "code",
   "execution_count": 4,
   "metadata": {},
   "outputs": [
    {
     "name": "stdout",
     "output_type": "stream",
     "text": [
      "Wert\n",
      "應用程式結束!\n"
     ]
    }
   ],
   "source": [
    "while True:\n",
    "    stuff = input(\"請輸入小寫字母[按q會離開]:\")\n",
    "    if stuff =='q':\n",
    "        break\n",
    "    else:\n",
    "        print(stuff.capitalize())\n",
    "        continue\n",
    "    print('沒用的程式')\n",
    "print(\"應用程式結束!\")\n"
   ]
  }
 ],
 "metadata": {
  "kernelspec": {
   "display_name": "Python 3",
   "language": "python",
   "name": "python3"
  },
  "language_info": {
   "codemirror_mode": {
    "name": "ipython",
    "version": 3
   },
   "file_extension": ".py",
   "mimetype": "text/x-python",
   "name": "python",
   "nbconvert_exporter": "python",
   "pygments_lexer": "ipython3",
   "version": "3.11.9"
  }
 },
 "nbformat": 4,
 "nbformat_minor": 2
}
