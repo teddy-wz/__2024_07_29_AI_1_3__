{
 "cells": [
  {
   "cell_type": "code",
   "execution_count": null,
   "metadata": {},
   "outputs": [],
   "source": [
    "def addition(a:int,b:int)->int:\n",
    "    return a + b\n",
    "def multiply(a:int,c:int)->int:\n",
    "    return a * c\n",
    "\n",
    "print(addition(8,10)) #引數值的呼叫,依照順序\n",
    "print(multiply(c=10,a=8))#引數名稱的呼叫,可以不依照順序"
   ]
  }
 ],
 "metadata": {
  "kernelspec": {
   "display_name": "Python 3",
   "language": "python",
   "name": "python3"
  },
  "language_info": {
   "name": "python",
   "version": "3.11.9"
  }
 },
 "nbformat": 4,
 "nbformat_minor": 2
}
