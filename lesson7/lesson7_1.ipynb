{
 "cells": [
  {
   "cell_type": "code",
   "execution_count": 3,
   "metadata": {},
   "outputs": [
    {
     "data": {
      "text/plain": [
       "54"
      ]
     },
     "execution_count": 3,
     "metadata": {},
     "output_type": "execute_result"
    }
   ],
   "source": [
    "import random\n",
    "random.randint(1,100) "
   ]
  },
  {
   "cell_type": "code",
   "execution_count": 20,
   "metadata": {},
   "outputs": [
    {
     "name": "stdout",
     "output_type": "stream",
     "text": [
      "======猜數字遊戲=====\n",
      "\n",
      "猜數字範圍1~100:Blank values are not allowed.\n",
      "猜數字範圍1~100:Blank values are not allowed.\n",
      "猜數字範圍1~100:Blank values are not allowed.\n",
      "猜數字範圍1~100:Blank values are not allowed.\n",
      "猜數字範圍1~100:Blank values are not allowed.\n",
      "猜數字範圍1~100:Blank values are not allowed.\n",
      "猜數字範圍1~100:Blank values are not allowed.\n",
      "猜數字範圍1~100:Blank values are not allowed.\n",
      "猜數字範圍1~100:Blank values are not allowed.\n",
      "猜數字範圍1~100:Blank values are not allowed.\n",
      "猜數字範圍1~100:Blank values are not allowed.\n",
      "猜數字範圍1~100:Blank values are not allowed.\n",
      "猜數字範圍1~100:Blank values are not allowed.\n",
      "猜數字範圍1~100:Blank values are not allowed.\n",
      "猜數字範圍1~100:"
     ]
    }
   ],
   "source": [
    "#猜數字遊戲\n",
    "import random\n",
    "import pyinputplus as pyip\n",
    "min=1\n",
    "max=100\n",
    "count = 0\n",
    "target=random.randint(1,100)\n",
    "print(\"======猜數字遊戲=====\\n\")\n",
    "while True:\n",
    "    count+=1\n",
    "    keyin=pyip.inputInt(f\"猜數字範圍{min}~{max}:\",min=min,max=max)\n",
    "    if keyin == target:\n",
    "        print(f\"賓果!猜對了,答案是{keyin}\")\n",
    "        print(f\"您猜了{count}次\")\n",
    "        break\n",
    "    elif keyin>target:\n",
    "        print(\"再大一點\")\n",
    "        max=keyin-1\n",
    "    elif keyin<target:\n",
    "        print(\"再小一點\")\n",
    "        min=keyin+1\n",
    "    print(f\"您已經猜了{count}次\")\n",
    "print(\"應用程式結束\")"
   ]
  },
  {
   "cell_type": "code",
   "execution_count": 11,
   "metadata": {},
   "outputs": [
    {
     "name": "stdout",
     "output_type": "stream",
     "text": [
      "請輸入整數:'34o' is not an integer.\n",
      "請輸入整數:45\n"
     ]
    }
   ],
   "source": [
    "import pyinputplus as pyip\n",
    "num=pyip.inputInt('請輸入整數:',min=1,max=100)\n",
    "print(num)"
   ]
  }
 ],
 "metadata": {
  "kernelspec": {
   "display_name": "Python 3",
   "language": "python",
   "name": "python3"
  },
  "language_info": {
   "codemirror_mode": {
    "name": "ipython",
    "version": 3
   },
   "file_extension": ".py",
   "mimetype": "text/x-python",
   "name": "python",
   "nbconvert_exporter": "python",
   "pygments_lexer": "ipython3",
   "version": "3.11.9"
  }
 },
 "nbformat": 4,
 "nbformat_minor": 2
}
